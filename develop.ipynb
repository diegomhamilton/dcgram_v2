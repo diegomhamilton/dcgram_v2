{
 "cells": [
  {
   "cell_type": "markdown",
   "metadata": {},
   "source": [
    "## Calculating second order differential equation\n",
    "\n",
    "#### Duffing Oscillator implementation: https://github.com/vkulkar/Duffing\n",
    "\n",
    "#### The Duffing Equation:\n",
    "    \n",
    "<center>\n",
    "    $\\frac{d^2 y}{dt^2} + \\beta \\frac{dy}{dt} + y(t) + y^3(t) = A\\cos(\\Omega t)$\n",
    "</center>\n",
    "\n",
    "<br />$A = 22$<br />\n",
    "<br />$\\Omega = 5$<br />\n",
    "<br />$\\beta = 0.1$<br />"
   ]
  },
  {
   "cell_type": "code",
   "execution_count": null,
   "metadata": {
    "scrolled": false
   },
   "outputs": [],
   "source": [
    "# This code simulates the duffing oscillator:\n",
    "# Damped driven harmonic oscillator in a double well potential.\n",
    "# F = -gamma*dx/dt + 2*a*x - 4*b*x^3 + A*cos(omega*t)\n",
    "# Second order nonlinear differential equation numerically solved by Taylor expansion.\n",
    "\n",
    "# For the current set of parameters the motion is chaotic, i.e.\n",
    "# the motion is strongly sensitive to the initial conditions. Additionally\n",
    "# no fixed period of motion is observed. The poincare plot is a fractal.\n",
    "\n",
    "import numpy as np\n",
    "import matplotlib.pyplot as plt\n",
    "import time\n",
    "t1 = time.time() #times the computation\n",
    "\n",
    "# parameters (mass = 1)\n",
    "a = 0.5\n",
    "b = 1/16.0\n",
    "A = 2.5\n",
    "omega = 2.0\n",
    "gamma = 0.1\n",
    "period = 2*np.pi/(1.0*omega)\n",
    "h = period/32 # time step\n",
    "# length of the simulation\n",
    "# T = 100000\n",
    "# t = np.linspace(0, 100000*period, 5500000)\n",
    "# h = 100000*period/5500000\n",
    "t = np.arange(0, 10000000*period, h)\n",
    "# t = np.arange(0,T,h)\n",
    "\n",
    "def x_2(x,v):\n",
    "    '''\n",
    "    second derivative term for Taylor series\n",
    "    '''\n",
    "    return -gamma*v + 2.0*a*x - 4.0*b*x*x*x\n",
    "\n",
    "def x_3(x2,x,v):\n",
    "    '''\n",
    "    third derivative term for Taylor series\n",
    "    '''\n",
    "    return -gamma*x2 + 2.0*a*v -12.0*b*x*x*v\n",
    "\n",
    "def x_4(x3,x2,x,v):\n",
    "    '''\n",
    "    fourth derivative term for Taylor series\n",
    "    '''\n",
    "    return -gamma*x3 + 2.0*a*x2 -12.0*b*x*x*x2 - 24.0*b*v*v*x\n",
    "\n",
    "def x_5(x4,x3,x2,x,v):\n",
    "    '''\n",
    "    fifth derivative term for Taylor series\n",
    "    '''\n",
    "    return -gamma*x4 + 2*a*x3 -12.0*b*(x*x*x3 + 2.0*x2*x*v) -24.0*b*(v*v*v+2*x*v*x2)\n",
    "\n",
    "# Trigonometric terms in derivatives. Evaluate before the loop\n",
    "x2F = A*np.cos(omega*t)\n",
    "x3F = -A*omega*np.sin(omega*t)\n",
    "x4F = -A*omega*omega*np.cos(omega*t)\n",
    "x5F = A*omega*omega*omega*np.sin(omega*t)\n",
    "\n",
    "# coefficients in front of Taylor series expansion\n",
    "# Evaluate before the loop\n",
    "coef1 = 0.5*h**2.0\n",
    "coef2 = 1.0/6.0*h**3.0\n",
    "coef3 = 1.0/24.0*h**4.0\n",
    "coef4 = 1.0/120.0*h**5.0\n",
    "\n",
    "# initial conditions\n",
    "v = 0.0\n",
    "x = 0.5\n",
    "\n",
    "position = np.zeros(len(t))\n",
    "velocity = np.zeros(len(t))\n",
    "position[0] = x\n",
    "\n",
    "for i in range(1,len(t)):\n",
    "    d2 = x_2(x,v) + x2F[i]\n",
    "    d3 = x_3(d2,x,v) + x3F[i]\n",
    "    d4 = x_4(d3,d2,x,v) + x4F[i]\n",
    "    d5 = x_5(d4,d3,d2,x,v) + x5F[i]\n",
    "    # Taylor series expansion for x,v. Order h^5\n",
    "    x += v*h + coef1*d2 + coef2*d3 + coef3*d4 + coef4*d5\n",
    "    v += d2*h + coef1*d3 + coef2*d4 + coef3*d5\n",
    "    position[i] = x\n",
    "    velocity[i] = v\n",
    "\n",
    "##f = open('data_duffing_pos_vel.txt','w')\n",
    "##for i in range(len(t)):\n",
    "##    f.write('%f %f' %(position[i], velocity[i]))\n",
    "##f.close()\n",
    "\n",
    "# obtain phase space points at integer multiples of the period for Poincare plot\n",
    "strange_attractor = np.zeros([len(t),2])\n",
    "# strange_attractor = np.zeros([int(T/period),2])\n",
    "k = 1\n",
    "for i in range(len(t)):\n",
    "    if abs(t[i]-k*period)<h:\n",
    "        strange_attractor[k-1,0] = position[i]\n",
    "        strange_attractor[k-1,1] = velocity[i]\n",
    "#         print(k)\n",
    "        k+=1\n",
    "\n",
    "t2 = time.time()\n",
    "print('computation takes ' + str(t2-t1) + ' seconds.')\n",
    "\n",
    "plt.plot(t,position,'g-',linewidth=4.0)\n",
    "# plt.axis([0, 100, -2, 2])\n",
    "plt.title('Trajectory of the oscillator',{'fontsize':24})\n",
    "plt.xlabel('time',{'fontsize':24})\n",
    "plt.ylabel('Position',{'fontsize':24})\n",
    "plt.tick_params(axis='both',labelsize=24)\n",
    "plt.axis([0, 1000, -4, 4])\n",
    "plt.show()"
   ]
  },
  {
   "cell_type": "code",
   "execution_count": 3,
   "metadata": {},
   "outputs": [
    {
     "data": {
      "text/plain": [
       "320000"
      ]
     },
     "execution_count": 3,
     "metadata": {},
     "output_type": "execute_result"
    }
   ],
   "source": [
    "len(position)"
   ]
  },
  {
   "cell_type": "code",
   "execution_count": 4,
   "metadata": {},
   "outputs": [],
   "source": [
    "new_data = position[::80]"
   ]
  },
  {
   "cell_type": "code",
   "execution_count": null,
   "metadata": {},
   "outputs": [],
   "source": []
  },
  {
   "cell_type": "code",
   "execution_count": 7,
   "metadata": {},
   "outputs": [
    {
     "data": {
      "text/plain": [
       "8000"
      ]
     },
     "execution_count": 7,
     "metadata": {},
     "output_type": "execute_result"
    }
   ],
   "source": [
    "len(new_data)"
   ]
  },
  {
   "cell_type": "code",
   "execution_count": 45,
   "metadata": {
    "scrolled": false
   },
   "outputs": [
    {
     "name": "stderr",
     "output_type": "stream",
     "text": [
      "/home/sid/.local/lib/python3.6/site-packages/numpy/core/numeric.py:501: ComplexWarning: Casting complex values to real discards the imaginary part\n",
      "  return array(a, dtype, copy=False, order=order)\n"
     ]
    },
    {
     "data": {
      "image/png": "[encoded data removed]",
      "text/plain": [
       "<Figure size 432x288 with 1 Axes>"
      ]
     },
     "metadata": {
      "needs_background": "light"
     },
     "output_type": "display_data"
    }
   ],
   "source": [
    "plt.plot(np.fft.fft(position))\n",
    "# plt.xlim(-1, 2000000)\n",
    "# plt.axis([0, 100000, -10000, 10000])\n",
    "plt.show()"
   ]
  },
  {
   "cell_type": "code",
   "execution_count": 46,
   "metadata": {},
   "outputs": [
    {
     "name": "stdout",
     "output_type": "stream",
     "text": [
      "[-3.5293064495066145e+94, nan, nan, nan, nan]\n"
     ]
    }
   ],
   "source": [
    "from math import ceil\n",
    "\n",
    "x = position.copy()\n",
    "# x = new_data.copy()\n",
    "x.sort()\n",
    "\n",
    "N = 4 # number of symbols\n",
    "\n",
    "interval = []\n",
    "interval.append(x[0])\n",
    "for i in range(2, N+1):\n",
    "    interval.append(x[ceil((i-1)*len(x)/N)])\n",
    "interval.append(x[-1])\n",
    "\n",
    "print(interval)\n",
    "\n",
    "# interval_group = []\n",
    "# for i, a in enumerate(interval[1:]):\n",
    "#     interval_group.append([interval[i], a])\n",
    "    \n",
    "# print(interval_group)"
   ]
  },
  {
   "cell_type": "code",
   "execution_count": 17,
   "metadata": {
    "scrolled": true
   },
   "outputs": [],
   "source": [
    "# import bisect\n",
    "# import re\n",
    "\n",
    "# paces = [2, 3, 5, 7, 11, 13, 17, 19, 23, 29, 31, 37, 41, 43, 47, 53, 59, 61, 67, 71, 73, 863]\n",
    "\n",
    "# for p in paces:\n",
    "#     quantized = []\n",
    "#     for x in position[::p]:\n",
    "#         new = bisect.bisect_right(interval, x) - 1\n",
    "#         quantized.append(new)    # corrects index in 0\n",
    "#     #     print(new)\n",
    "#     # print(quantized[0:100])\n",
    "\n",
    "#     seq = ''.join(str(i) for i in quantized)\n",
    "#     # print(seq)\n",
    "#     suma = 0\n",
    "#     for match in re.finditer(r\"(\\w)\\1\", seq):\n",
    "#         suma += 1\n",
    "\n",
    "#     print(f'pace = {p}, repeated = {suma/len(quantized)}')\n",
    "\n",
    "# # plt.plot(np.fft.fft(quantized))\n",
    "# # plt.xlim(0, 10)"
   ]
  },
  {
   "cell_type": "code",
   "execution_count": 18,
   "metadata": {},
   "outputs": [],
   "source": [
    "# repetitions = []\n",
    "# last_i = quantized[0]\n",
    "# counter = 0\n",
    "# for i in quantized[::71]:\n",
    "#     if i == last_i:\n",
    "#         counter += 1\n",
    "#     else:\n",
    "#         repetitions.append((counter, last_i))\n",
    "#         print(f'c = {counter}, i = {last_i}')\n",
    "#         counter = 0\n",
    "#     last_i = i"
   ]
  },
  {
   "cell_type": "code",
   "execution_count": 21,
   "metadata": {},
   "outputs": [],
   "source": [
    "# char = []\n",
    "\n",
    "# for i in range(0,8):\n",
    "#     char.append([r for r in repetitions if r[1] == i])"
   ]
  },
  {
   "cell_type": "code",
   "execution_count": 40,
   "metadata": {
    "scrolled": true
   },
   "outputs": [
    {
     "name": "stdout",
     "output_type": "stream",
     "text": [
      "566667\n"
     ]
    }
   ],
   "source": [
    "import bisect\n",
    "import yaml\n",
    "\n",
    "quantized = []\n",
    "\n",
    "for x in position:\n",
    "# for x in new_data:\n",
    "    new = bisect.bisect_right(interval[:-1], x) - 1\n",
    "    quantized.append(new)    # corrects index in 0\n",
    "\n",
    "seq = ''.join(str(i) for i in quantized)\n",
    "seq_reduced = seq[::3]\n",
    "print(len(seq_reduced))\n",
    "# with open(f'../dcgram_files/duffing_equation/original/original_len_{len(seq_reduced)}.yaml', 'w') as f:\n",
    "#     yaml.dump(seq_reduced, f)\n",
    "# with open(f'../dcgram_files/duffing_equation/original/original_len_{len(seq)}.yaml', 'w') as f:\n",
    "#     yaml.dump(seq, f)"
   ]
  },
  {
   "cell_type": "code",
   "execution_count": 42,
   "metadata": {},
   "outputs": [
    {
     "data": {
      "text/plain": [
       "'2222222222222222233333333322111000000001111111111111111111111100000000111222233333333333333322221110000000011111111100000111111110000000011122223333333333333333322221111000000000000000000111122222333333333333333322211100000000111111111000001111111100000000111122223333333333333333222111000000001111111100000011111111100000000111112222222222233333333222110000000011111111111111111122211111110000001100000000001112223333333332222233333332222222222222233333222223333333332221110000000001110000000011111122222111111222222223332223333333333222111000000011111111111111111122221111111100011110000000000111223333333322222222222222222222222223333333222222222222222222111111111112211111100000001111100000000011122222333333333333333322211100000000111111111100001111111100000000111222333333333333333333322221111111111100000000011122333333322111000000000000000000111111122221111111111111111110000000011112222222222223333333322211100000000000000000011112222222233333333333332211100000001112222233333333333332221100'"
      ]
     },
     "execution_count": 42,
     "metadata": {},
     "output_type": "execute_result"
    }
   ],
   "source": [
    "seq[0:1000]"
   ]
  },
  {
   "cell_type": "markdown",
   "metadata": {},
   "source": [
    "## Analyze conditional entropy of sequence"
   ]
  },
  {
   "cell_type": "code",
   "execution_count": 60,
   "metadata": {
    "scrolled": true
   },
   "outputs": [
    {
     "name": "stdout",
     "output_type": "stream",
     "text": [
      "Calculating probabilities for words with length 11 ...\n",
      "Calculating probabilities for words with length 10 ...\n",
      "Calculating probabilities for words with length 9 ...\n",
      "Calculating probabilities for words with length 8 ...\n",
      "Calculating probabilities for words with length 7 ...\n",
      "Calculating probabilities for words with length 6 ...\n",
      "Calculating probabilities for words with length 5 ...\n",
      "Calculating probabilities for words with length 4 ...\n",
      "Calculating probabilities for words with length 3 ...\n",
      "Calculating probabilities for words with length 2 ...\n",
      "Calculating subsequence conditional probabilities\n",
      "L = 10\n",
      "Calculating conditional probabilities of subsequences of length: 1\n",
      "Calculating conditional probabilities of subsequences of length: 2\n",
      "Calculating conditional probabilities of subsequences of length: 3\n",
      "Calculating conditional probabilities of subsequences of length: 4\n",
      "Calculating conditional probabilities of subsequences of length: 5\n",
      "Calculating conditional probabilities of subsequences of length: 6\n",
      "Calculating conditional probabilities of subsequences of length: 7\n",
      "Calculating conditional probabilities of subsequences of length: 8\n",
      "Calculating conditional probabilities of subsequences of length: 9\n",
      "Calculating conditional probabilities of subsequences of length: 10\n",
      "*****************\n",
      "Conditional probabilities calculated!\n",
      "*****************\n",
      "Calculating conditional entropy for sequence at: \n",
      "L = 10\n",
      "*****************\n",
      "Sequence: \n",
      "Conditional entropy calculated!\n",
      "*****************\n"
     ]
    }
   ],
   "source": [
    "import sequenceanalyzer as sa\n",
    "\n",
    "N = 10\n",
    "\n",
    "s = seq\n",
    "# s = seq_reduced\n",
    "p, a = sa.calc_probs(s, N)\n",
    "p_cond = sa.calc_cond_probs(p, a, N)\n",
    "\n",
    "e = sa.calc_cond_entropy(p, p_cond, N)"
   ]
  },
  {
   "cell_type": "code",
   "execution_count": 62,
   "metadata": {
    "scrolled": true
   },
   "outputs": [
    {
     "data": {
      "text/plain": [
       "[<matplotlib.lines.Line2D at 0x7f8857497470>]"
      ]
     },
     "execution_count": 62,
     "metadata": {},
     "output_type": "execute_result"
    },
    {
     "data": {
      "image/png": "[encoded data removed]",
      "text/plain": [
       "<Figure size 432x288 with 1 Axes>"
      ]
     },
     "metadata": {
      "needs_background": "light"
     },
     "output_type": "display_data"
    }
   ],
   "source": [
    "# e\n",
    "plt.plot(list(range(1,N+1)), e)"
   ]
  },
  {
   "cell_type": "markdown",
   "metadata": {},
   "source": [
    "## Analyze repetition of symbols in sequence"
   ]
  },
  {
   "cell_type": "code",
   "execution_count": 52,
   "metadata": {},
   "outputs": [],
   "source": [
    "curr_c = seq[0]\n",
    "repeated = 1\n",
    "repeated_list = []\n",
    "\n",
    "for c in seq[1:]:\n",
    "    if c == curr_c:\n",
    "        repeated += 1\n",
    "    else:\n",
    "        curr_c = c\n",
    "        repeated_list.append(repeated)\n",
    "        repeated = 1\n",
    "        \n",
    "# print(repeated_list)"
   ]
  },
  {
   "cell_type": "code",
   "execution_count": 54,
   "metadata": {},
   "outputs": [
    {
     "name": "stdout",
     "output_type": "stream",
     "text": [
      "14\n",
      "3.2313815778844135\n"
     ]
    }
   ],
   "source": [
    "repeated_list = np.array(repeated_list)\n",
    "print(repeated_list.max())\n",
    "print(repeated_list.mean())\n",
    "# print(np.where(repeated_list == 3))"
   ]
  },
  {
   "cell_type": "code",
   "execution_count": 87,
   "metadata": {},
   "outputs": [],
   "source": [
    "sequences = seq[::12]\n",
    "\n",
    "curr_c = sequences[0]\n",
    "repeated = 1\n",
    "repeated_list = []\n",
    "\n",
    "for c in sequences[1:]:\n",
    "    if c == curr_c:\n",
    "        repeated += 1\n",
    "    else:\n",
    "        curr_c = c\n",
    "        repeated_list.append(repeated)\n",
    "        repeated = 1\n",
    "repeated_list = np.array(repeated_list)"
   ]
  },
  {
   "cell_type": "code",
   "execution_count": 89,
   "metadata": {},
   "outputs": [
    {
     "data": {
      "text/plain": [
       "1.4341956650352283"
      ]
     },
     "execution_count": 89,
     "metadata": {},
     "output_type": "execute_result"
    }
   ],
   "source": [
    "repeated_list.mean()"
   ]
  },
  {
   "cell_type": "code",
   "execution_count": null,
   "metadata": {},
   "outputs": [],
   "source": []
  }
 ],
 "metadata": {
  "kernelspec": {
   "display_name": "Python 3",
   "language": "python",
   "name": "python3"
  },
  "language_info": {
   "codemirror_mode": {
    "name": "ipython",
    "version": 3
   },
   "file_extension": ".py",
   "mimetype": "text/x-python",
   "name": "python",
   "nbconvert_exporter": "python",
   "pygments_lexer": "ipython3",
   "version": "3.6.7"
  }
 },
 "nbformat": 4,
 "nbformat_minor": 2
}
