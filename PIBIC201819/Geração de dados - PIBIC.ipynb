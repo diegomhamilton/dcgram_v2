{
 "cells": [
  {
   "cell_type": "code",
   "execution_count": 2,
   "metadata": {},
   "outputs": [
    {
     "name": "stdout",
     "output_type": "stream",
     "text": [
      "computation takes 1.348191738128662 seconds.\n",
      "computation takes 1.3734896183013916 seconds.\n",
      "computation takes 1.3315150737762451 seconds.\n",
      "computation takes 1.352839469909668 seconds.\n",
      "computation takes 1.3415112495422363 seconds.\n",
      "computation takes 1.3440155982971191 seconds.\n",
      "computation takes 1.339958667755127 seconds.\n",
      "computation takes 1.3411498069763184 seconds.\n"
     ]
    }
   ],
   "source": [
    "import duffing_equation as duf\n",
    "import mkdir as mk\n",
    "import pdb\n",
    "import sys\n",
    "sys.path.insert(0, 'dcgram_v2')\n",
    "\n",
    "mk.organize_folders('duffing_equation', 'beta030')\n",
    "betas = [(0.1, 'beta010'), (0.12, 'beta012'), (0.14, 'beta014'), (0.16, 'beta016'), (0.18, 'beta018'), (0.2, 'beta020'), (0.22, 'beta022')]\n",
    "betas.append((0.3, 'beta030'))\n",
    "for beta, v in betas:\n",
    "    duf.generate_time_series(beta = beta, version = v, L = 10000)"
   ]
  },
  {
   "cell_type": "code",
   "execution_count": null,
   "metadata": {},
   "outputs": [],
   "source": []
  }
 ],
 "metadata": {
  "kernelspec": {
   "display_name": "Python 3",
   "language": "python",
   "name": "python3"
  },
  "language_info": {
   "codemirror_mode": {
    "name": "ipython",
    "version": 3
   },
   "file_extension": ".py",
   "mimetype": "text/x-python",
   "name": "python",
   "nbconvert_exporter": "python",
   "pygments_lexer": "ipython3",
   "version": "3.6.7"
  }
 },
 "nbformat": 4,
 "nbformat_minor": 2
}
