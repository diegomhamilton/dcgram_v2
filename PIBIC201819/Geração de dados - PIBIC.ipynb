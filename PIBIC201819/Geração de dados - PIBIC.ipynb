{
 "cells": [
  {
   "cell_type": "code",
   "execution_count": 1,
   "metadata": {},
   "outputs": [],
   "source": [
    "import duffing_equation as duf\n",
    "import mkdir as mk\n",
    "import pdb\n",
    "import sys\n",
    "sys.path.insert(0, 'dcgram_v2')"
   ]
  },
  {
   "cell_type": "code",
   "execution_count": null,
   "metadata": {},
   "outputs": [],
   "source": [
    "betas = np.arange(0.01, 0.51, 0.01)\n",
    "\n",
    "for beta in betas:\n",
    "    leg = '{:1.2f}'.format(beta).replace('.', '')\n",
    "    mk.organize_folders('duffing_equation', leg)\n",
    "    duf.generate_time_series(beta = beta, version = leg, L = 1000000)"
   ]
  },
  {
   "cell_type": "code",
   "execution_count": null,
   "metadata": {},
   "outputs": [],
   "source": []
  }
 ],
 "metadata": {
  "kernelspec": {
   "display_name": "Python 3",
   "language": "python",
   "name": "python3"
  },
  "language_info": {
   "codemirror_mode": {
    "name": "ipython",
    "version": 3
   },
   "file_extension": ".py",
   "mimetype": "text/x-python",
   "name": "python",
   "nbconvert_exporter": "python",
   "pygments_lexer": "ipython3",
   "version": "3.6.7"
  }
 },
 "nbformat": 4,
 "nbformat_minor": 2
}
