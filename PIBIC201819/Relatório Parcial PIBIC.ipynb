{
 "cells": [
  {
   "cell_type": "markdown",
   "metadata": {},
   "source": [
    "## Conditional entropies evaluation\n",
    "#### Test conditions: \n",
    "    a = 0.5\n",
    "    b = 1/16.0\n",
    "    A = 2.5\n",
    "    omega = 2.0\n",
    "    gamma = 0.1\n",
    "    period = 2*np.pi/(1.0*omega)\n",
    "    h = period/32 # time step\n",
    "    \n",
    "    new_data = position[::23]"
   ]
  },
  {
   "cell_type": "code",
   "execution_count": 2,
   "metadata": {},
   "outputs": [],
   "source": [
    "import sys\n",
    "sys.path.insert(0, '../../dcgram_v2')\n",
    "import save_plot as sp\n",
    "import numpy as np\n",
    "sys.path.insert(0, '../../dcgram_v2/tests')\n",
    "from pibic import *\n",
    "import yaml\n",
    "import matplotlib.pyplot as plt\n",
    "import itertools\n",
    "\n",
    "path = '../..'"
   ]
  },
  {
   "cell_type": "code",
   "execution_count": 2,
   "metadata": {
    "scrolled": true
   },
   "outputs": [],
   "source": [
    "# sp.save_plot(parameter='cond_entropies', name='duffing_equation', drange = range(2,6), krange = [3, 5, 7])"
   ]
  },
  {
   "cell_type": "markdown",
   "metadata": {},
   "source": [
    "## Kolmogorov-Smirnov Tests"
   ]
  },
  {
   "cell_type": "code",
   "execution_count": 17,
   "metadata": {},
   "outputs": [],
   "source": [
    "def kolmogorov_test(beta = 0.1, D = 2, K = 3, \\\n",
    "                    subseq_len = 1000, subseq_rep = 1000, dataset = 'duffing_equation', L = 1391305):\n",
    "    \n",
    "    leg = '{:1.2f}'.format(beta).replace('.', '')\n",
    "    with open(f'{path}/dcgram_files/{dataset}/original/original_len_{L}.yaml', 'r') as f:\n",
    "        s = yaml.load(f)    \n",
    "    with open(f'{path}/dcgram_files/{dataset}/results/machines/dcgram/dcgram_D{D}_K{K}.yaml', 'r') as f:\n",
    "        m_test = yaml.load(f)    \n",
    "#     with open(f'{path}/dcgram_files/{dataset}/results/machines/dmarkov/dmark_D{D}.yaml', 'r') as f:\n",
    "#         m_test = yaml.load(f)\n",
    "    with open(f'{path}/dcgram_files/{dataset}_{leg}/original/original_len_{L}.yaml', 'r') as f:\n",
    "        s_test = yaml.load(f)\n",
    "    \n",
    "#     occup_vector = sa.iterate_machine(m_test, L)    # Simulates ocuppation vector\n",
    "    occup_vector = eig.occup_vector(m_test)    # Calculate occupation vector from eigen vectors\n",
    "    occup_vector_anomaly = sa.calc_occup_vector_dict(m_test, s_test, subseq_len)\n",
    "    \n",
    "    stat, p = ks_2samp(occup_vector, occup_vector_anomaly)\n",
    "    return stat, p\n",
    "\n",
    "def plot_graph(x=[], y=[], D=2, K=3, N=1000, ylabel='p-value', legend = 'legend', color = 'k'):\n",
    "    plt.plot(x, y, color, label = legend)\n",
    "    plt.title(f'D={D}, K={K}')\n",
    "    plt.xlabel(r'$\\beta$')\n",
    "    plt.ylabel(ylabel)\n",
    "    plt.yscale('log')\n",
    "    plt.legend()\n",
    "    plt.savefig(f'plots/{ylabel}_D{D}_K{K}_{N}.png')"
   ]
  },
  {
   "cell_type": "code",
   "execution_count": 28,
   "metadata": {},
   "outputs": [
    {
     "data": {
      "image/png": "[encoded data removed]",
      "text/plain": [
       "<Figure size 432x288 with 1 Axes>"
      ]
     },
     "metadata": {
      "needs_background": "light"
     },
     "output_type": "display_data"
    }
   ],
   "source": [
    "betas = np.arange(0.02, 0.48, 0.02)\n",
    "\n",
    "p = []\n",
    "stat = []\n",
    "\n",
    "for D in [3]:\n",
    "    K = 3\n",
    "    \n",
    "    for beta in betas:\n",
    "        stval, pval = kolmogorov_test(beta = beta, D = D, K = K, subseq_len = 50000, subseq_rep = 1)\n",
    "        p.append(pval)\n",
    "        stat.append(stval)\n",
    "\n",
    "    plot_graph(betas, p, D, K, ylabel='p-value')\n"
   ]
  },
  {
   "cell_type": "code",
   "execution_count": 29,
   "metadata": {},
   "outputs": [],
   "source": [
    "# p_dmark_4 = p.copy()\n",
    "# st_dmark_4 = stat.copy()\n",
    "# p_dmark_3 = p.copy()\n",
    "# st_dmark_3 = stat.copy()\n",
    "# p_dcgram_4 = p.copy()\n",
    "# st_dcgram_4 = stat.copy()\n",
    "p_dcgram_3 = p.copy()\n",
    "st_dcgram_3 = stat.copy()"
   ]
  },
  {
   "cell_type": "code",
   "execution_count": 41,
   "metadata": {},
   "outputs": [
    {
     "data": {
      "image/png": "[encoded data removed]",
      "text/plain": [
       "<Figure size 432x288 with 1 Axes>"
      ]
     },
     "metadata": {
      "needs_background": "light"
     },
     "output_type": "display_data"
    }
   ],
   "source": [
    "plot_graph(betas, p_dmark_3, D, K, ylabel='p-value', color= 'k')\n",
    "# plot_graph(betas, p_dcgram_3, D, K, ylabel='p-value', color = 'r')\n",
    "plot_graph(betas, p_dmark_4, D, K, ylabel='p-value', color= 'y')\n",
    "plot_graph(betas, p_dcgram_4, D, K, ylabel='p-value', color = 'b')\n",
    "# plot_graph(betas, stat, D, K, ylabel='p-value')"
   ]
  },
  {
   "cell_type": "code",
   "execution_count": 4,
   "metadata": {},
   "outputs": [],
   "source": [
    "def evaluate_occup_div(D = 2, K = 3, N = 10000, L = 1391305, betas = []):\n",
    "    dc_kl = []\n",
    "    dm_kl = []\n",
    "\n",
    "    for beta in betas:\n",
    "        dataset = 'duffing_equation'\n",
    "        leg = '{:1.2f}'.format(beta).replace('.', '')\n",
    "\n",
    "        with open(f'{path}/dcgram_files/{dataset}/original/original_len_{L}.yaml', 'r') as f:\n",
    "            s = yaml.load(f)    \n",
    "        with open(f'{path}/dcgram_files/{dataset}/results/machines/dcgram/dcgram_D{D}_K{K}.yaml', 'r') as f:\n",
    "            m_test = yaml.load(f)    \n",
    "        with open(f'{path}/dcgram_files/{dataset}/results/machines/dmarkov/dmark_D{D}.yaml', 'r') as f:\n",
    "            m = yaml.load(f)\n",
    "        with open(f'{path}/dcgram_files/{dataset}_{leg}/original/original_len_{L}.yaml', 'r') as f:\n",
    "            s_test = yaml.load(f)\n",
    "\n",
    "        dc_occup_vector = eig.occup_vector(m_test)    # Calculate occupation vector from eigen vectors\n",
    "        # occup_vector2 = sa.iterate_machine(m_test, L)    # Simulates ocuppation vector\n",
    "        dc_occup_vector_anomaly = sa.calc_occup_vector_dict(m_test, s_test, N)\n",
    "        dm_occup_vector = eig.occup_vector(m)    # Calculate occupation vector from eigen vectors\n",
    "        dm_occup_vector_anomaly = sa.calc_occup_vector_dict(m, s_test, N)\n",
    "\n",
    "        dc_kl.append(sa.calc_kldivergence_vector(dc_occup_vector, dc_occup_vector_anomaly))\n",
    "        dm_kl.append(sa.calc_kldivergence_vector(dm_occup_vector, dm_occup_vector_anomaly))\n",
    "        \n",
    "    with open(f'kl_results/kl_dcgram_D{D}_K{K}_N{N}', 'w') as f:\n",
    "        yaml.dump({'betas': betas, 'kl': dc_kl}, f)\n",
    "    with open(f'kl_results/kl_dmark_D{D}_N{N}', 'w') as f:\n",
    "        yaml.dump({'betas': betas, 'kl': dm_kl}, f)"
   ]
  },
  {
   "cell_type": "code",
   "execution_count": null,
   "metadata": {},
   "outputs": [],
   "source": [
    "D = [1,2,3,4]\n",
    "K = [3]\n",
    "N = [1000, 5000, 10000, 100000]\n",
    "b = np.arange(0.01, 0.48, 0.01)\n",
    "\n",
    "possibilities = list(itertools.product(D, K, N))\n",
    "\n",
    "for (D, K, N) in possibilities:\n",
    "    evaluate_occup_div(D = D, K = K, N = N, betas = b)"
   ]
  },
  {
   "cell_type": "code",
   "execution_count": 21,
   "metadata": {},
   "outputs": [],
   "source": [
    "def plot_kldiv(D = 2, K = 3, N = 10000):\n",
    "    with open(f'kl_results/kl_dcgram_D{D}_K{K}_N{N}', 'r') as f:\n",
    "        result = yaml.load(f)\n",
    "        dc = result['kl']\n",
    "    with open(f'kl_results/kl_dmark_D{D}_N{N}', 'r') as f:\n",
    "        result = yaml.load(f)\n",
    "        dm = result['kl']\n",
    "        betas = result['betas']\n",
    "\n",
    "    plot_graph(betas, dc, D, K, N = N, ylabel='kl_div', legend = 'DCGraM', color= 'y')\n",
    "    plot_graph(betas, dm, D, K, N = N, ylabel='kl_div', legend = 'D-Markov', color = 'b')"
   ]
  },
  {
   "cell_type": "code",
   "execution_count": 22,
   "metadata": {},
   "outputs": [
    {
     "name": "stdout",
     "output_type": "stream",
     "text": [
      "(1, 3, 1000)\n",
      "(1, 3, 5000)\n",
      "(1, 3, 10000)\n",
      "(1, 3, 100000)\n",
      "(2, 3, 1000)\n",
      "(2, 3, 5000)\n",
      "(2, 3, 10000)\n",
      "(2, 3, 100000)\n",
      "(3, 3, 1000)\n",
      "(3, 3, 5000)\n",
      "(3, 3, 10000)\n",
      "(3, 3, 100000)\n",
      "(4, 3, 1000)\n",
      "(4, 3, 5000)\n",
      "(4, 3, 10000)\n",
      "(4, 3, 100000)\n"
     ]
    },
    {
     "data": {
      "text/plain": [
       "<Figure size 432x288 with 0 Axes>"
      ]
     },
     "metadata": {},
     "output_type": "display_data"
    }
   ],
   "source": [
    "D = [1,2,3,4]\n",
    "K = [3]\n",
    "N = [1000, 5000, 10000, 100000]\n",
    "b = np.arange(0.01, 0.48, 0.01)\n",
    "\n",
    "possibilities = list(itertools.product(D, K, N))\n",
    "\n",
    "for (D, K, N) in possibilities:\n",
    "    print((D,K,N))\n",
    "    plot_kldiv(D, K, N)\n",
    "    plt.clf()"
   ]
  },
  {
   "cell_type": "code",
   "execution_count": null,
   "metadata": {},
   "outputs": [],
   "source": []
  }
 ],
 "metadata": {
  "kernelspec": {
   "display_name": "Python 3",
   "language": "python",
   "name": "python3"
  },
  "language_info": {
   "codemirror_mode": {
    "name": "ipython",
    "version": 3
   },
   "file_extension": ".py",
   "mimetype": "text/x-python",
   "name": "python",
   "nbconvert_exporter": "python",
   "pygments_lexer": "ipython3",
   "version": "3.6.7"
  }
 },
 "nbformat": 4,
 "nbformat_minor": 2
}
