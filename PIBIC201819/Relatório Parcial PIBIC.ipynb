{
 "cells": [
  {
   "cell_type": "markdown",
   "metadata": {},
   "source": [
    "## Conditional entropies evaluation\n",
    "#### Test conditions: \n",
    "    a = 0.5\n",
    "    b = 1/16.0\n",
    "    A = 2.5\n",
    "    omega = 2.0\n",
    "    gamma = 0.1\n",
    "    period = 2*np.pi/(1.0*omega)\n",
    "    h = period/32 # time step\n",
    "    \n",
    "    new_data = position[::23]"
   ]
  },
  {
   "cell_type": "code",
   "execution_count": 5,
   "metadata": {},
   "outputs": [],
   "source": [
    "import sys\n",
    "sys.path.insert(0, '../../dcgram_v2')\n",
    "import save_plot as sp\n",
    "import numpy as np\n",
    "sys.path.insert(0, '../../dcgram_v2/tests')\n",
    "from pibic import *\n",
    "import yaml\n",
    "import matplotlib.pyplot as plt"
   ]
  },
  {
   "cell_type": "code",
   "execution_count": null,
   "metadata": {
    "scrolled": true
   },
   "outputs": [],
   "source": [
    "sp.save_plot(parameter='cond_entropies', name='duffing_equation', drange = range(2,6), krange = [3, 5, 7])"
   ]
  },
  {
   "cell_type": "markdown",
   "metadata": {},
   "source": [
    "## Kolmogorov-Smirnov Tests"
   ]
  },
  {
   "cell_type": "code",
   "execution_count": 41,
   "metadata": {},
   "outputs": [],
   "source": [
    "path = '../..'\n",
    "\n",
    "def kolmogorov_test(beta = 0.1, D = 2, K = 3, \\\n",
    "                    subseq_len = 1000, subseq_rep = 1000, dataset = 'duffing_equation', L = 1391305):\n",
    "    \n",
    "    leg = '{:1.2f}'.format(beta).replace('.', '')\n",
    "    with open(f'{path}/dcgram_files/{dataset}/original/original_len_{L}.yaml', 'r') as f:\n",
    "        s = yaml.load(f)    \n",
    "    with open(f'{path}/dcgram_files/{dataset}/results/machines/dcgram/dcgram_D{D}_K{K}.yaml', 'r') as f:\n",
    "        m_test = yaml.load(f)\n",
    "    with open(f'{path}/dcgram_files/{dataset}_{leg}/original/original_len_{L}.yaml', 'r') as f:\n",
    "        s_test = yaml.load(f)\n",
    "    \n",
    "    occup_vector, std, avg = calc_mean_vector(m_test, s, subseq_len, rep = subseq_rep)\n",
    "    occup_vector_anomaly, std, avg = calc_mean_vector(m_test, s_test, subseq_len, rep = subseq_rep)\n",
    "    \n",
    "    stat, p = ks_2samp(occup_vector, occup_vector_anomaly)\n",
    "    return stat, p\n",
    "\n",
    "def plot_graph(x=[], y=[], D=2, K=3, ylabel='p-value'):\n",
    "    plt.plot(x, y)\n",
    "    plt.title(f'D={D}, K={K}')\n",
    "    plt.xlabel(r'$\\beta$')\n",
    "    plt.ylabel(ylabel)\n",
    "    plt.savefig(f'{ylabel}_D{D}_K{K}.png')"
   ]
  },
  {
   "cell_type": "code",
   "execution_count": 65,
   "metadata": {},
   "outputs": [
    {
     "data": {
      "image/png": "[encoded data removed]",
      "text/plain": [
       "<Figure size 432x288 with 1 Axes>"
      ]
     },
     "metadata": {
      "needs_background": "light"
     },
     "output_type": "display_data"
    }
   ],
   "source": [
    "betas = np.arange(0.01, 0.48, 0.01)\n",
    "\n",
    "p = []\n",
    "stat = []\n",
    "\n",
    "for D in [3]:\n",
    "    K = 4\n",
    "    \n",
    "    for beta in betas:\n",
    "        stval, pval = kolmogorov_test(beta = beta, D = 4, K = 3, subseq_len = 10000, subseq_rep = 1)\n",
    "        p.append(pval)\n",
    "        stat.append(stval)\n",
    "\n",
    "    plot_graph(betas, p, D, K, ylabel='p-value')\n"
   ]
  },
  {
   "cell_type": "code",
   "execution_count": 58,
   "metadata": {},
   "outputs": [],
   "source": [
    "dataset = 'duffing_equation'\n",
    "leg = '010'\n",
    "L = 1391305\n",
    "D = 3\n",
    "K = 3\n",
    "\n",
    "with open(f'{path}/dcgram_files/{dataset}/original/original_len_{L}.yaml', 'r') as f:\n",
    "    s = yaml.load(f)    \n",
    "with open(f'{path}/dcgram_files/{dataset}/results/machines/dcgram/dcgram_D{D}_K{K}.yaml', 'r') as f:\n",
    "    m_test = yaml.load(f)\n",
    "with open(f'{path}/dcgram_files/{dataset}_{leg}/original/original_len_{L}.yaml', 'r') as f:\n",
    "    s_test = yaml.load(f)"
   ]
  },
  {
   "cell_type": "code",
   "execution_count": 59,
   "metadata": {},
   "outputs": [],
   "source": [
    "occup_vector, std, avg = calc_mean_vector(m_test, s, 1000, rep = 1000)"
   ]
  },
  {
   "cell_type": "code",
   "execution_count": 64,
   "metadata": {},
   "outputs": [
    {
     "data": {
      "text/plain": [
       "34"
      ]
     },
     "execution_count": 64,
     "metadata": {},
     "output_type": "execute_result"
    }
   ],
   "source": [
    "len(m_test.states)"
   ]
  },
  {
   "cell_type": "code",
   "execution_count": null,
   "metadata": {},
   "outputs": [],
   "source": []
  }
 ],
 "metadata": {
  "kernelspec": {
   "display_name": "Python 3",
   "language": "python",
   "name": "python3"
  },
  "language_info": {
   "codemirror_mode": {
    "name": "ipython",
    "version": 3
   },
   "file_extension": ".py",
   "mimetype": "text/x-python",
   "name": "python",
   "nbconvert_exporter": "python",
   "pygments_lexer": "ipython3",
   "version": "3.6.7"
  }
 },
 "nbformat": 4,
 "nbformat_minor": 2
}
