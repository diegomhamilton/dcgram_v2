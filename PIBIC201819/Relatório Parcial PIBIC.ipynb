{
 "cells": [
  {
   "cell_type": "markdown",
   "metadata": {},
   "source": [
    "## Conditional entropies evaluation\n",
    "#### Test conditions: \n",
    "    a = 0.5\n",
    "    b = 1/16.0\n",
    "    A = 2.5\n",
    "    omega = 2.0\n",
    "    gamma = 0.1\n",
    "    period = 2*np.pi/(1.0*omega)\n",
    "    h = period/32 # time step\n",
    "    \n",
    "    new_data = position[::23]"
   ]
  },
  {
   "cell_type": "code",
   "execution_count": 1,
   "metadata": {},
   "outputs": [],
   "source": [
    "import sys\n",
    "sys.path.insert(0, 'dcgram_v2')\n",
    "import save_plot as sp\n",
    "import numpy as np\n",
    "sys.path.insert(0, 'dcgram_v2/tests')\n",
    "from pibic import *\n",
    "import yaml"
   ]
  },
  {
   "cell_type": "code",
   "execution_count": 2,
   "metadata": {
    "scrolled": true
   },
   "outputs": [
    {
     "data": {
      "image/png": "[encoded data removed]",
      "text/plain": [
       "<Figure size 432x288 with 1 Axes>"
      ]
     },
     "metadata": {
      "needs_background": "light"
     },
     "output_type": "display_data"
    }
   ],
   "source": [
    "sp.save_plot(parameter='cond_entropies', name='duffing_equation', drange = range(2,6), krange = [3, 5, 7])"
   ]
  },
  {
   "cell_type": "markdown",
   "metadata": {},
   "source": [
    "## Kolmogorov-Smirnov Tests"
   ]
  },
  {
   "cell_type": "code",
   "execution_count": 3,
   "metadata": {},
   "outputs": [],
   "source": [
    "with open('../dcgram_files/duffing_equation/results/sequences/dcgram/dcgram_D2_K3.yaml', 'r') as f:\n",
    "    s_2_3 = yaml.load(f)\n",
    "    \n",
    "with open('../dcgram_files/duffing_equation/results/machines/dcgram/dcgram_D2_K3.yaml', 'r') as f:\n",
    "    m_2_3 = yaml.load(f)\n",
    "    \n",
    "with open('../dcgram_files/duffing_equation/results/sequences/dcgram/dcgram_D3_K3.yaml', 'r') as f:\n",
    "    s_3_3 = yaml.load(f)\n",
    "    \n",
    "with open('../dcgram_files/duffing_equation/results/machines/dcgram/dcgram_D3_K3.yaml', 'r') as f:\n",
    "    m_3_3 = yaml.load(f)\n",
    "    \n",
    "with open('../dcgram_files/duffing_equation/results/sequences/dmarkov/dmark_D2.yaml', 'r') as f:\n",
    "    s_2 = yaml.load(f)\n",
    "    \n",
    "with open('../dcgram_files/duffing_equation/results/machines/dmarkov/dmark_D2.yaml', 'r') as f:\n",
    "    m_2 = yaml.load(f)\n",
    "    \n",
    "with open('../dcgram_files/duffing_equation/original/original_len_1391305.yaml', 'r') as f:\n",
    "    s = yaml.load(f)\n",
    "    \n",
    "with open('../dcgram_files/duffing_equation_beta010/original/original_len_13914.yaml', 'r') as f:\n",
    "    s_beta_010 = yaml.load(f)\n",
    "    \n",
    "with open('../dcgram_files/duffing_equation_beta012/original/original_len_13914.yaml', 'r') as f:\n",
    "    s_beta_012 = yaml.load(f)\n",
    "    \n",
    "with open('../dcgram_files/duffing_equation_beta014/original/original_len_13914.yaml', 'r') as f:\n",
    "    s_beta_014 = yaml.load(f)\n",
    "    \n",
    "with open('../dcgram_files/duffing_equation_beta020/original/original_len_13914.yaml', 'r') as f:\n",
    "    s_beta_020 = yaml.load(f)\n",
    "    \n",
    "with open('../dcgram_files/duffing_equation_beta022/original/original_len_13914.yaml', 'r') as f:\n",
    "    s_beta_022 = yaml.load(f)\n",
    "    \n",
    "with open('../dcgram_files/duffing_equation_beta030/original/original_len_13914.yaml', 'r') as f:\n",
    "    s_beta_030 = yaml.load(f)"
   ]
  },
  {
   "cell_type": "code",
   "execution_count": 22,
   "metadata": {},
   "outputs": [],
   "source": [
    "v1 = calc_mean_vector(m_3_3, s, 1000, rep = 1000)[0]\n",
    "v10 = sa.calc_occup_vector(m_3_3, s_beta_010, 1000)\n",
    "v12 = sa.calc_occup_vector(m_3_3, s_beta_012, 1000)\n",
    "v14 = sa.calc_occup_vector(m_3_3, s_beta_014, 1000)\n",
    "v20 = sa.calc_occup_vector(m_3_3, s_beta_020, 1000)\n",
    "v22 = sa.calc_occup_vector(m_3_3, s_beta_022, 1000)\n",
    "v30 = sa.calc_occup_vector(m_3_3, s_beta_030, 1000)"
   ]
  },
  {
   "cell_type": "code",
   "execution_count": 23,
   "metadata": {},
   "outputs": [
    {
     "name": "stdout",
     "output_type": "stream",
     "text": [
      "stat: 0.08823529411764708, prob: 0.998882594033865\n",
      "stat: 0.1470588235294118, prob: 0.825315708763453\n",
      "stat: 0.08823529411764705, prob: 0.998882594033865\n",
      "stat: 0.1764705882352941, prob: 0.6212924269882373\n",
      "stat: 0.17647058823529413, prob: 0.6212924269882372\n",
      "stat: 0.2941176470588235, prob: 0.08534160666282316\n"
     ]
    }
   ],
   "source": [
    "stat, p_val = ks_2samp(v1, v10)\n",
    "print(f'stat: {stat}, prob: {p_val}')\n",
    "stat, p_val = ks_2samp(v1, v12)\n",
    "print(f'stat: {stat}, prob: {p_val}')\n",
    "stat, p_val = ks_2samp(v1, v14)\n",
    "print(f'stat: {stat}, prob: {p_val}')\n",
    "stat, p_val = ks_2samp(v1, v20)\n",
    "print(f'stat: {stat}, prob: {p_val}')\n",
    "stat, p_val = ks_2samp(v1, v22)\n",
    "print(f'stat: {stat}, prob: {p_val}')\n",
    "stat, p_val = ks_2samp(v1, v30)\n",
    "print(f'stat: {stat}, prob: {p_val}')"
   ]
  },
  {
   "cell_type": "code",
   "execution_count": 12,
   "metadata": {},
   "outputs": [
    {
     "name": "stdout",
     "output_type": "stream",
     "text": [
      "[0.050163 0.076514 0.014545 0.055066 0.041377 0.014115 0.038557 0.035958\n",
      " 0.020316 0.017409 0.0381   0.035879 0.014448 0.014303 0.076812 0.055729\n",
      " 0.020385 0.049916 0.041094 0.017055 0.004597 0.008707 0.042784 0.042476\n",
      " 0.029211 0.023263 0.023198 0.00472  0.029158 0.025914 0.008741 0.025909\n",
      " 0.001813 0.001768]\n",
      "[0.0070914  0.01105775 0.00215411 0.0072521  0.00559011 0.001986\n",
      " 0.00527199 0.00544635 0.00279317 0.00250317 0.00515635 0.00520575\n",
      " 0.00192129 0.00207317 0.01109398 0.00785269 0.00294223 0.0069414\n",
      " 0.00576858 0.00239788 0.0006547  0.00113565 0.0061167  0.0057914\n",
      " 0.0042354  0.00304788 0.00316352 0.00070376 0.0039907  0.00352411\n",
      " 0.00114847 0.00359164 0.00021376 0.00018282]\n"
     ]
    }
   ],
   "source": [
    "print(v1)\n",
    "print(v10)"
   ]
  },
  {
   "cell_type": "code",
   "execution_count": null,
   "metadata": {},
   "outputs": [],
   "source": []
  }
 ],
 "metadata": {
  "kernelspec": {
   "display_name": "Python 3",
   "language": "python",
   "name": "python3"
  },
  "language_info": {
   "codemirror_mode": {
    "name": "ipython",
    "version": 3
   },
   "file_extension": ".py",
   "mimetype": "text/x-python",
   "name": "python",
   "nbconvert_exporter": "python",
   "pygments_lexer": "ipython3",
   "version": "3.6.7"
  }
 },
 "nbformat": 4,
 "nbformat_minor": 2
}
